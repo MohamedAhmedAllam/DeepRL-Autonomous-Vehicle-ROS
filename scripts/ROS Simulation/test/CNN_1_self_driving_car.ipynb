{
  "nbformat": 4,
  "nbformat_minor": 0,
  "metadata": {
    "colab": {
      "name": "CNN_1_self_driving_car",
      "version": "0.3.2",
      "views": {},
      "default_view": {},
      "provenance": [],
      "toc_visible": true
    },
    "kernelspec": {
      "name": "python3",
      "display_name": "Python 3"
    },
    "accelerator": "GPU"
  },
  "cells": [
    {
      "metadata": {
        "id": "EJe_sEHHvwou",
        "colab_type": "code",
        "colab": {
          "autoexec": {
            "startup": false,
            "wait_interval": 0
          }
        }
      },
      "cell_type": "code",
      "source": [
        "!pip install -U -q PyDrive"
      ],
      "execution_count": 0,
      "outputs": []
    },
    {
      "metadata": {
        "id": "SEOR9YrH2a1l",
        "colab_type": "code",
        "colab": {
          "autoexec": {
            "startup": false,
            "wait_interval": 0
          }
        }
      },
      "cell_type": "code",
      "source": [
        "# Install the PyDrive wrapper & import libraries.\n",
        "# This only needs to be done once per notebook.\n",
        "!pip install -U -q PyDrive\n",
        "from pydrive.auth import GoogleAuth\n",
        "from pydrive.drive import GoogleDrive\n",
        "from google.colab import auth\n",
        "from oauth2client.client import GoogleCredentials\n",
        "\n",
        "# Authenticate and create the PyDrive client.\n",
        "# This only needs to be done once per notebook.\n",
        "auth.authenticate_user()\n",
        "gauth = GoogleAuth()\n",
        "gauth.credentials = GoogleCredentials.get_application_default()\n",
        "drive = GoogleDrive(gauth)\n",
        "\n",
        "# Download a file based on its file ID.\n",
        "# A file ID looks like: laggVyWshwcyP6kEI-y_W3P8D26sz\n",
        "file1 = drive.CreateFile({'id': '1DpVBNFx0Du3vH4COXxzK34JoeVaX-gO_'})\n",
        "file2 = drive.CreateFile({'id': '1Wg3kgFoqA0m2s3uS3IXVWmas3aNwIjVf'})\n",
        "file3 = drive.CreateFile({'id': '1ftMjSJ8UUgRA1rLBYJYi0B2ScWPkCUQE'})\n",
        "file4 = drive.CreateFile({'id': '1bWfC5USBFA6PiBVRrB9FVhTH7HI3fNRL'})\n",
        "file5 = drive.CreateFile({'id': '1Q2XyOR0EMiBKCoJ1rOs5GurlJa0deAsF'})\n",
        "file6 = drive.CreateFile({'id': '1EZC4S3IohObh8dDgsF8pl8tRiooLNsTD'})\n",
        "file7 = drive.CreateFile({'id': '102JGovF7fqFZMpGC8QMrQF4cWwNsDx3H'})\n",
        "file8 = drive.CreateFile({'id': '1kU8fZYEKPVfC5nhLgMxE4gTZpGr4J40o'})\n",
        "file9 = drive.CreateFile({'id': '1_xWtU99NtDhVImp1hYZCuz-EmUykhdQA'})\n",
        "#file10 = drive.CreateFile({'id': file10_id})\n",
        "a1=file1.GetContentString()\n",
        "a2=file2.GetContentString()\n",
        "a3=file3.GetContentString()\n",
        "a4=file4.GetContentString()\n",
        "a5=file5.GetContentString()\n",
        "a6=file6.GetContentString()\n",
        "a7=file7.GetContentString()\n",
        "a8=file8.GetContentString()\n",
        "a9=file9.GetContentString()\n",
        "#a10=file10.GetContentString()\n",
        "#print(a)"
      ],
      "execution_count": 0,
      "outputs": []
    },
    {
      "metadata": {
        "id": "kdDJ63BREFMG",
        "colab_type": "code",
        "colab": {
          "autoexec": {
            "startup": false,
            "wait_interval": 0
          },
          "output_extras": [
            {
              "item_id": 1
            }
          ],
          "base_uri": "https://localhost:8080/",
          "height": 34
        },
        "outputId": "791bf836-3586-40cb-f33c-c43a29c01cc1",
        "executionInfo": {
          "status": "ok",
          "timestamp": 1520750613562,
          "user_tz": -120,
          "elapsed": 1393,
          "user": {
            "displayName": "Karim Ibrahim",
            "photoUrl": "https://lh3.googleusercontent.com/a/default-user=s128",
            "userId": "117092890811661881234"
          }
        }
      },
      "cell_type": "code",
      "source": [
        "# to know size of h\n",
        "h=0\n",
        "def compute_h(a):\n",
        "  b=a.split('\\n')\n",
        "  for i in range(0,len(b)):\n",
        "    if len(b[i])==0 :\n",
        "      del b[i]\n",
        "  return len(b)\n",
        "h=h+compute_h(a1)+compute_h(a2)+compute_h(a3)+compute_h(a4)+compute_h(a5)+compute_h(a6)+compute_h(a7)+compute_h(a8)+compute_h(a9)\n",
        "print(h)"
      ],
      "execution_count": 19,
      "outputs": [
        {
          "output_type": "stream",
          "text": [
            "7201\n"
          ],
          "name": "stdout"
        }
      ]
    },
    {
      "metadata": {
        "id": "wQ8CB_bPFzUU",
        "colab_type": "code",
        "colab": {
          "autoexec": {
            "startup": false,
            "wait_interval": 0
          },
          "output_extras": [
            {
              "item_id": 9
            }
          ],
          "base_uri": "https://localhost:8080/",
          "height": 170
        },
        "outputId": "c4e081bf-243c-457e-c2fb-1f59ecbb04fe",
        "executionInfo": {
          "status": "ok",
          "timestamp": 1520750712557,
          "user_tz": -120,
          "elapsed": 96730,
          "user": {
            "displayName": "Karim Ibrahim",
            "photoUrl": "https://lh3.googleusercontent.com/a/default-user=s128",
            "userId": "117092890811661881234"
          }
        }
      },
      "cell_type": "code",
      "source": [
        "import numpy as np\n",
        "import pylab as plt\n",
        "x=np.zeros((h,200,200,1))\n",
        "y=np.zeros((h,1))\n",
        "ii=0\n",
        "array = []\n",
        "\n",
        "def putting_data_in_array(a):\n",
        "  b=a.split('\\n')\n",
        "  for i in range(0,len(b)):\n",
        "    if len(b[i])==0 :\n",
        "      del b[i]\n",
        "  print(len(b))\n",
        "  for line in b: # read rest of lines\n",
        "    array.append([float(x) for x in line.split(',')])\n",
        "\n",
        "def assign_values_x_y(array,indx):\n",
        "  global x\n",
        "  global y\n",
        "  for i in range(0+indx,len(array)+indx):\n",
        "    a=array[i-indx][0:200*200]\n",
        "    x[i,:,:,0]=np.reshape(a,(200,200))\n",
        "    y[i][0]=array[i-indx][(200*200)]\n",
        "  return len(array)\n",
        "\n",
        "putting_data_in_array(a1)\n",
        "a1=None\n",
        "ii=ii+assign_values_x_y(array,ii)\n",
        "array=[]\n",
        "\n",
        "putting_data_in_array(a2)\n",
        "a2=None\n",
        "ii=ii+assign_values_x_y(array,ii)\n",
        "array=[]\n",
        "\n",
        "putting_data_in_array(a3)\n",
        "a3=None\n",
        "ii=ii+assign_values_x_y(array,ii)\n",
        "array=[]\n",
        "\n",
        "putting_data_in_array(a4)\n",
        "a4=None\n",
        "ii=ii+assign_values_x_y(array,ii)\n",
        "array=[]\n",
        "\n",
        "putting_data_in_array(a5)\n",
        "a5=None\n",
        "ii=ii+assign_values_x_y(array,ii)\n",
        "array=[]\n",
        "\n",
        "putting_data_in_array(a6)\n",
        "a6=None\n",
        "ii=ii+assign_values_x_y(array,ii)\n",
        "array=[]\n",
        "\n",
        "putting_data_in_array(a7)\n",
        "a7=None\n",
        "ii=ii+assign_values_x_y(array,ii)\n",
        "array=[]\n",
        "\n",
        "putting_data_in_array(a8)\n",
        "a8=None\n",
        "ii=ii+assign_values_x_y(array,ii)\n",
        "array=[]\n",
        "\n",
        "putting_data_in_array(a9)\n",
        "a9=None\n",
        "ii=ii+assign_values_x_y(array,ii)\n",
        "array=[]"
      ],
      "execution_count": 20,
      "outputs": [
        {
          "output_type": "stream",
          "text": [
            "801\n",
            "800\n",
            "800\n",
            "800\n",
            "800\n",
            "800\n",
            "800\n",
            "800\n",
            "800\n"
          ],
          "name": "stdout"
        }
      ]
    },
    {
      "metadata": {
        "id": "lcpBN24M-WVd",
        "colab_type": "code",
        "colab": {
          "autoexec": {
            "startup": false,
            "wait_interval": 0
          },
          "output_extras": [
            {
              "item_id": 1
            }
          ],
          "base_uri": "https://localhost:8080/",
          "height": 328
        },
        "outputId": "6ea3832a-5533-44d9-c311-2de6a9ed8c94",
        "executionInfo": {
          "status": "ok",
          "timestamp": 1520750757931,
          "user_tz": -120,
          "elapsed": 1148,
          "user": {
            "displayName": "Karim Ibrahim",
            "photoUrl": "https://lh3.googleusercontent.com/a/default-user=s128",
            "userId": "117092890811661881234"
          }
        }
      },
      "cell_type": "code",
      "source": [
        "im = plt.imshow(x[205,:,:,0], cmap='gray')\n",
        "plt.colorbar(im, orientation='horizontal')\n",
        "plt.show()"
      ],
      "execution_count": 21,
      "outputs": [
        {
          "output_type": "display_data",
          "data": {
            "image/png": "[encoded data removed]",
            "text/plain": [
              "<matplotlib.figure.Figure at 0x7faa203342e8>"
            ]
          },
          "metadata": {
            "tags": []
          }
        }
      ]
    },
    {
      "metadata": {
        "id": "RciHVhSt-bIF",
        "colab_type": "code",
        "colab": {
          "autoexec": {
            "startup": false,
            "wait_interval": 0
          }
        }
      },
      "cell_type": "code",
      "source": [
        "import math\n",
        "import numpy as np\n",
        "import h5py\n",
        "import matplotlib.pyplot as plt\n",
        "import scipy\n",
        "from scipy import ndimage\n",
        "import tensorflow as tf\n",
        "from tensorflow.python.framework import ops"
      ],
      "execution_count": 0,
      "outputs": []
    },
    {
      "metadata": {
        "id": "_qZN-2t9-gjP",
        "colab_type": "code",
        "colab": {
          "autoexec": {
            "startup": false,
            "wait_interval": 0
          }
        }
      },
      "cell_type": "code",
      "source": [
        "def create_placeholders(n_H0, n_W0, n_C0, n_y):\n",
        "    X = tf.placeholder(tf.float32, [None, n_H0, n_W0, n_C0])\n",
        "    Y = tf.placeholder(tf.float32, [None, n_y])\n",
        "    return X, Y"
      ],
      "execution_count": 0,
      "outputs": []
    },
    {
      "metadata": {
        "id": "380HsC53-g_8",
        "colab_type": "code",
        "colab": {
          "autoexec": {
            "startup": false,
            "wait_interval": 0
          }
        }
      },
      "cell_type": "code",
      "source": [
        "def initialize_parameters():\n",
        "    W1 = tf.get_variable(\"W1\", [5, 5, 1, 24], initializer=tf.contrib.layers.xavier_initializer())\n",
        "    W2 = tf.get_variable(\"W2\", [5, 5, 24, 36], initializer=tf.contrib.layers.xavier_initializer())\n",
        "    W3 = tf.get_variable(\"W3\", [5, 5, 36, 48], initializer=tf.contrib.layers.xavier_initializer())\n",
        "    W4 = tf.get_variable(\"W4\", [3, 3, 48, 64], initializer=tf.contrib.layers.xavier_initializer())\n",
        "    W5 = tf.get_variable(\"W5\", [3, 3, 64, 76], initializer=tf.contrib.layers.xavier_initializer())\n",
        "    \n",
        "    W6 = tf.get_variable(\"W6\", [100, 47500], initializer = tf.contrib.layers.xavier_initializer())\n",
        "    b6 = tf.get_variable(\"b6\", [100, 1], initializer = tf.zeros_initializer())\n",
        "    W7 = tf.get_variable(\"W7\", [50, 100], initializer = tf.contrib.layers.xavier_initializer())\n",
        "    b7 = tf.get_variable(\"b7\", [50, 1], initializer = tf.zeros_initializer())\n",
        "    W8 = tf.get_variable(\"W8\", [10, 50], initializer = tf.contrib.layers.xavier_initializer())\n",
        "    b8 = tf.get_variable(\"b8\", [10, 1], initializer = tf.zeros_initializer())\n",
        "    W9 = tf.get_variable(\"W9\", [1, 10], initializer = tf.contrib.layers.xavier_initializer())\n",
        "    b9 = tf.get_variable(\"b9\", [1, 1], initializer = tf.zeros_initializer())\n",
        "    parameters = {\"W1\":W1,\"W2\":W2,\"W3\":W3,\"W4\":W4,\"W5\":W5,\"W6\":W6,\"W7\":W7,\"W8\":W8,\"W9\":W9,\"b6\":b6,\"b7\":b7,\"b8\":b8,\"b9\":b9}\n",
        "    return parameters"
      ],
      "execution_count": 0,
      "outputs": []
    },
    {
      "metadata": {
        "id": "jLjZO5xw-hNE",
        "colab_type": "code",
        "colab": {
          "autoexec": {
            "startup": false,
            "wait_interval": 0
          }
        }
      },
      "cell_type": "code",
      "source": [
        "def forward_propagation(X, parameters):\n",
        "    W1 = parameters['W1']\n",
        "    W2 = parameters['W2']\n",
        "    W3 = parameters['W3']\n",
        "    W4 = parameters['W4']\n",
        "    W5 = parameters['W5']\n",
        "    W6 = parameters['W6']\n",
        "    W7 = parameters['W7']\n",
        "    W8 = parameters['W8']\n",
        "    W9 = parameters['W9']\n",
        "    b6 = parameters['b6']\n",
        "    b7 = parameters['b7']\n",
        "    b8 = parameters['b8']\n",
        "    b9 = parameters['b9']\n",
        "    \n",
        "    print(X.shape)\n",
        "    Z1 = tf.nn.conv2d(X, W1, strides=[1, 2, 2, 1], padding='SAME')\n",
        "    A1 = tf.nn.relu(Z1)\n",
        "    print(A1.shape)\n",
        "    Z2 = tf.nn.conv2d(A1, W2, strides=[1, 2, 2, 1], padding='SAME')\n",
        "    A2 = tf.nn.relu(Z2)\n",
        "    print(A2.shape)\n",
        "    Z3 = tf.nn.conv2d(A2, W3, strides=[1, 2, 2, 1], padding='SAME')\n",
        "    A3 = tf.nn.relu(Z3)\n",
        "    print(A3.shape)\n",
        "    Z4 = tf.nn.conv2d(A3, W4, strides=[1, 1, 1, 1], padding='SAME')\n",
        "    A4 = tf.nn.relu(Z4)\n",
        "    print(A4.shape)\n",
        "    Z5 = tf.nn.conv2d(A4, W5, strides=[1, 1, 1, 1], padding='SAME')\n",
        "    A5 = tf.nn.relu(Z5)\n",
        "    print(A5.shape)\n",
        "    \n",
        "    P = tf.transpose(tf.contrib.layers.flatten(A5))\n",
        "    print(P.shape)\n",
        "    print(W6.shape)\n",
        "    \n",
        "    Z6 = tf.add(tf.matmul(W6, P), b6)\n",
        "    A6 = tf.nn.relu(Z6)\n",
        "    print(A6.shape)\n",
        "    Z7 = tf.add(tf.matmul(W7, A6), b7)\n",
        "    A7 = tf.nn.relu(Z7)\n",
        "    print(A7.shape)\n",
        "    Z8 = tf.add(tf.matmul(W8, A7), b8) \n",
        "    A8 = tf.nn.relu(Z8)\n",
        "    print(A8.shape)\n",
        "    Z9 = tf.add(tf.matmul(W9, A8), b9)\n",
        "    print(Z9.shape)\n",
        "    return Z9"
      ],
      "execution_count": 0,
      "outputs": []
    },
    {
      "metadata": {
        "id": "OJ2_8nQ4-r6t",
        "colab_type": "code",
        "colab": {
          "autoexec": {
            "startup": false,
            "wait_interval": 0
          }
        }
      },
      "cell_type": "code",
      "source": [
        "def compute_cost(Z3, Y):\n",
        "    cost=tf.reduce_sum(tf.losses.absolute_difference(labels=Y,predictions=Z3))\n",
        "    #cost=tf.reduce_sum(tf.multiply(Y, tf.log(Z3)) + tf.multiply(1 - Y, tf.log(1 - Z3)))\n",
        "    \n",
        "    return cost"
      ],
      "execution_count": 0,
      "outputs": []
    },
    {
      "metadata": {
        "id": "I9JWc2O8-sR1",
        "colab_type": "code",
        "colab": {
          "autoexec": {
            "startup": false,
            "wait_interval": 0
          }
        }
      },
      "cell_type": "code",
      "source": [
        "def random_mini_batches(X, Y, mini_batch_size = 64):\n",
        "    m = X.shape[0]                  # number of training examples\n",
        "    mini_batches = []\n",
        "\n",
        "    permutation = list(np.random.permutation(m))\n",
        "    shuffled_X = X[permutation,:]\n",
        "    shuffled_Y = Y[permutation,:].reshape((m,1))\n",
        "\n",
        "    num_complete_minibatches = int(math.floor(m/mini_batch_size)) \n",
        "    for k in range(0, num_complete_minibatches):\n",
        "        mini_batch_X = shuffled_X[k * mini_batch_size:(k + 1) * mini_batch_size,:,:,:]\n",
        "        mini_batch_Y = shuffled_Y[k * mini_batch_size:(k + 1) * mini_batch_size,:]\n",
        "        mini_batch = (mini_batch_X, mini_batch_Y)\n",
        "        mini_batches.append(mini_batch)\n",
        "    \n",
        "    if m % mini_batch_size != 0:\n",
        "        end = m - mini_batch_size * math.floor(m / mini_batch_size)\n",
        "        mini_batch_X = shuffled_X[num_complete_minibatches * mini_batch_size:,:,:,:]\n",
        "        mini_batch_Y = shuffled_Y[num_complete_minibatches * mini_batch_size:,:]\n",
        "        mini_batch = (mini_batch_X, mini_batch_Y)\n",
        "        mini_batches.append(mini_batch)\n",
        "        \n",
        "    return mini_batches"
      ],
      "execution_count": 0,
      "outputs": []
    },
    {
      "metadata": {
        "id": "nsN4K1yJ-yHu",
        "colab_type": "code",
        "colab": {
          "autoexec": {
            "startup": false,
            "wait_interval": 0
          }
        }
      },
      "cell_type": "code",
      "source": [
        "def model(X_train, Y_train, learning_rate=0.009,num_epochs=100, minibatch_size=64, print_cost=True):\n",
        "    Y_train=Y_train*180/3.14\n",
        "    ops.reset_default_graph()                 # to be able to rerun the model without overwriting tf variables\n",
        "    (m, n_H0, n_W0, n_C0) = X_train.shape             \n",
        "    n_y = Y_train.shape[1]                            \n",
        "    costs = []\n",
        "    \n",
        "    X, Y = create_placeholders(n_H0, n_W0, n_C0, n_y)\n",
        "    print(\"create_placeholders done\")\n",
        "    parameters = initialize_parameters()\n",
        "    print(\"initialize_parameters done\")\n",
        "    Z3 = forward_propagation(X, parameters)\n",
        "    print(\"forward_propagation done\")\n",
        "    cost = compute_cost(Z3, Y)\n",
        "    print(\"compute_cost done\")\n",
        "    optimizer = tf.train.AdamOptimizer(learning_rate=learning_rate).minimize(cost)\n",
        "    print(\"AdamOptimizer done\")\n",
        "    \n",
        "    init = tf.global_variables_initializer()\n",
        "    print(\"init done\")\n",
        "    with tf.Session() as sess:\n",
        "        sess.run(init)\n",
        "        #for num_of_itera in range (0,5):\n",
        "          #print(\"iteration number = %i\" % (num_of_itera))\n",
        "        for epoch in range(num_epochs):\n",
        "            minibatch_cost = 0.\n",
        "            num_minibatches = int(m / minibatch_size)\n",
        "            minibatches = random_mini_batches(X_train, Y_train, minibatch_size)\n",
        "            for minibatch in minibatches:\n",
        "                (minibatch_X, minibatch_Y) = minibatch\n",
        "                _ , temp_cost = sess.run([optimizer, cost], feed_dict={X:minibatch_X, Y:minibatch_Y})\n",
        "                minibatch_cost += temp_cost / num_minibatches\n",
        "\n",
        "            if print_cost == True and epoch % 5 == 0:\n",
        "                print (\"Cost after epoch %i: %f\" % (epoch, minibatch_cost))\n",
        "            if print_cost == True and epoch % 1 == 0:\n",
        "                costs.append(minibatch_cost)\n",
        "        \n",
        "        # plot the cost\n",
        "        plt.plot(np.squeeze(costs))\n",
        "        plt.ylabel('cost')\n",
        "        plt.xlabel('iterations (per tens)')\n",
        "        plt.title(\"Learning rate =\" + str(learning_rate))\n",
        "        plt.show()\n",
        "        \n",
        "        # Calculate accuracy on the test set\n",
        "        #accuracy = (1/Y.shape[0])*( np.sum(np.absolute(Y-Z3)) )\n",
        "        #print(accuracy)\n",
        "        #train_accuracy = accuracy.eval({X: X_train, Y: Y_train})\n",
        "        #print(\"Train Accuracy:\", train_accuracy)\n",
        "        \n",
        "        return parameters"
      ],
      "execution_count": 0,
      "outputs": []
    },
    {
      "metadata": {
        "id": "Di_7Izt4-yYH",
        "colab_type": "code",
        "colab": {
          "autoexec": {
            "startup": false,
            "wait_interval": 0
          },
          "output_extras": [
            {
              "item_id": 22
            },
            {
              "item_id": 23
            }
          ],
          "base_uri": "https://localhost:8080/",
          "height": 1022
        },
        "outputId": "ede40b46-2b70-47c6-de15-35f44f9b3a85",
        "executionInfo": {
          "status": "ok",
          "timestamp": 1520751951576,
          "user_tz": -120,
          "elapsed": 1170569,
          "user": {
            "displayName": "Karim Ibrahim",
            "photoUrl": "https://lh3.googleusercontent.com/a/default-user=s128",
            "userId": "117092890811661881234"
          }
        }
      },
      "cell_type": "code",
      "source": [
        "parameters = model(x, y)"
      ],
      "execution_count": 29,
      "outputs": [
        {
          "output_type": "stream",
          "text": [
            "create_placeholders done\n",
            "initialize_parameters done\n",
            "(?, 200, 200, 1)\n",
            "(?, 100, 100, 24)\n",
            "(?, 50, 50, 36)\n",
            "(?, 25, 25, 48)\n",
            "(?, 25, 25, 64)\n",
            "(?, 25, 25, 76)\n",
            "(47500, ?)\n",
            "(100, 47500)\n",
            "(100, ?)\n",
            "(50, ?)\n",
            "(10, ?)\n",
            "(1, ?)\n",
            "forward_propagation done\n",
            "compute_cost done\n",
            "AdamOptimizer done\n",
            "init done\n",
            "Cost after epoch 0: 65.786603\n",
            "Cost after epoch 5: 2.022233\n",
            "Cost after epoch 10: 2.019325\n",
            "Cost after epoch 15: 2.022494\n",
            "Cost after epoch 20: 2.019463\n",
            "Cost after epoch 25: 2.023629\n",
            "Cost after epoch 30: 2.020566\n",
            "Cost after epoch 35: 2.022456\n",
            "Cost after epoch 40: 2.022574\n",
            "Cost after epoch 45: 2.022081\n",
            "Cost after epoch 50: 2.022702\n",
            "Cost after epoch 55: 2.022126\n",
            "Cost after epoch 60: 2.022766\n",
            "Cost after epoch 65: 2.021784\n",
            "Cost after epoch 70: 2.021874\n",
            "Cost after epoch 75: 2.023101\n",
            "Cost after epoch 80: 2.021425\n",
            "Cost after epoch 85: 2.026401\n",
            "Cost after epoch 90: 2.021655\n",
            "Cost after epoch 95: 2.020571\n"
          ],
          "name": "stdout"
        },
        {
          "output_type": "display_data",
          "data": {
            "image/png": "[encoded data removed]",
            "text/plain": [
              "<matplotlib.figure.Figure at 0x7faa20237e10>"
            ]
          },
          "metadata": {
            "tags": []
          }
        }
      ]
    },
    {
      "metadata": {
        "id": "CMYIOijw-Fo7",
        "colab_type": "code",
        "colab": {
          "autoexec": {
            "startup": false,
            "wait_interval": 0
          },
          "output_extras": [
            {
              "item_id": 1
            }
          ],
          "base_uri": "https://localhost:8080/",
          "height": 54
        },
        "outputId": "74743f24-ec7a-42f8-e944-60e102e66087",
        "executionInfo": {
          "status": "ok",
          "timestamp": 1520753478000,
          "user_tz": -120,
          "elapsed": 826,
          "user": {
            "displayName": "Karim Ibrahim",
            "photoUrl": "https://lh3.googleusercontent.com/a/default-user=s128",
            "userId": "117092890811661881234"
          }
        }
      },
      "cell_type": "code",
      "source": [
        "print(parameters)"
      ],
      "execution_count": 33,
      "outputs": [
        {
          "output_type": "stream",
          "text": [
            "{'W1': <tf.Variable 'W1:0' shape=(5, 5, 1, 24) dtype=float32_ref>, 'W2': <tf.Variable 'W2:0' shape=(5, 5, 24, 36) dtype=float32_ref>, 'W3': <tf.Variable 'W3:0' shape=(5, 5, 36, 48) dtype=float32_ref>, 'W4': <tf.Variable 'W4:0' shape=(3, 3, 48, 64) dtype=float32_ref>, 'W5': <tf.Variable 'W5:0' shape=(3, 3, 64, 76) dtype=float32_ref>, 'W6': <tf.Variable 'W6:0' shape=(100, 47500) dtype=float32_ref>, 'W7': <tf.Variable 'W7:0' shape=(50, 100) dtype=float32_ref>, 'W8': <tf.Variable 'W8:0' shape=(10, 50) dtype=float32_ref>, 'W9': <tf.Variable 'W9:0' shape=(1, 10) dtype=float32_ref>, 'b6': <tf.Variable 'b6:0' shape=(100, 1) dtype=float32_ref>, 'b7': <tf.Variable 'b7:0' shape=(50, 1) dtype=float32_ref>, 'b8': <tf.Variable 'b8:0' shape=(10, 1) dtype=float32_ref>, 'b9': <tf.Variable 'b9:0' shape=(1, 1) dtype=float32_ref>}\n"
          ],
          "name": "stdout"
        }
      ]
    }
  ]
}